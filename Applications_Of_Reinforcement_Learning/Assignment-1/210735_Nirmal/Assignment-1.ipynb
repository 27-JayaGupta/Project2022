{
 "cells": [
  {
   "cell_type": "code",
   "execution_count": null,
   "metadata": {},
   "outputs": [],
   "source": [
    "import math\n",
    "\n",
    "r1 =int(input(\"Row of matrix1: \"))\n",
    "c1 =int(input(\"Column of matrix1: \"))\n",
    "matrix1 = []\n",
    "for i in range(r1):\n",
    "    a =[]\n",
    "    for j in range(c1):\n",
    "        a.append(int(input(\"Element of matrix1\")))\n",
    "    matrix1.append(a)\n",
    "\n",
    "r2 =int(input(\"Row of matrix2: \"))\n",
    "c2 =int(input(\"Column of matrix2: \"))\n",
    "matrix2 = []\n",
    "for i in range(r2):\n",
    "    a=[]\n",
    "    for j in range(c2):\n",
    "        a.append(int(input(\"Element of matrix2\")))\n",
    "    matrix2.append(a)"
   ]
  },
  {
   "cell_type": "code",
   "execution_count": 55,
   "metadata": {},
   "outputs": [
    {
     "name": "stdout",
     "output_type": "stream",
     "text": [
      "5 5 \n",
      "\n",
      "5 5 \n",
      "\n",
      "\n"
     ]
    }
   ],
   "source": [
    "if (r1==r2) and (c1==c2):\n",
    "    addmat = []\n",
    "    for i in range(r1):\n",
    "        a = []\n",
    "        for j in range(c1):\n",
    "            a.append(m1[i][j] + m2[i][j])\n",
    "        addmat.append(a)\n",
    "    for i in range(r1):\n",
    "        for j in range(c1):\n",
    "            print(addmat[i][j], end = \" \")\n",
    "        print(\"\\n\")\n",
    "    print()"
   ]
  },
  {
   "cell_type": "code",
   "execution_count": 56,
   "metadata": {},
   "outputs": [
    {
     "ename": "IndexError",
     "evalue": "list index out of range",
     "output_type": "error",
     "traceback": [
      "\u001b[1;31m---------------------------------------------------------------------------\u001b[0m",
      "\u001b[1;31mIndexError\u001b[0m                                Traceback (most recent call last)",
      "\u001b[1;32mc:\\Users\\NIRMAL\\OneDrive\\Documents\\GitHub\\Project2022\\Applications_Of_Reinforcement_Learning\\Assignment-1\\210735_Nirmal\\Assignment-1.ipynb Cell 3'\u001b[0m in \u001b[0;36m<cell line: 1>\u001b[1;34m()\u001b[0m\n\u001b[0;32m     <a href='vscode-notebook-cell:/c%3A/Users/NIRMAL/OneDrive/Documents/GitHub/Project2022/Applications_Of_Reinforcement_Learning/Assignment-1/210735_Nirmal/Assignment-1.ipynb#ch0000002?line=9'>10</a>\u001b[0m \u001b[39mfor\u001b[39;00m i \u001b[39min\u001b[39;00m \u001b[39mrange\u001b[39m(r1):\n\u001b[0;32m     <a href='vscode-notebook-cell:/c%3A/Users/NIRMAL/OneDrive/Documents/GitHub/Project2022/Applications_Of_Reinforcement_Learning/Assignment-1/210735_Nirmal/Assignment-1.ipynb#ch0000002?line=10'>11</a>\u001b[0m     \u001b[39mfor\u001b[39;00m j \u001b[39min\u001b[39;00m \u001b[39mrange\u001b[39m(c2):\n\u001b[1;32m---> <a href='vscode-notebook-cell:/c%3A/Users/NIRMAL/OneDrive/Documents/GitHub/Project2022/Applications_Of_Reinforcement_Learning/Assignment-1/210735_Nirmal/Assignment-1.ipynb#ch0000002?line=11'>12</a>\u001b[0m         \u001b[39mprint\u001b[39m(mulmat[i][j], end \u001b[39m=\u001b[39m \u001b[39m\"\u001b[39m\u001b[39m \u001b[39m\u001b[39m\"\u001b[39m)\n\u001b[0;32m     <a href='vscode-notebook-cell:/c%3A/Users/NIRMAL/OneDrive/Documents/GitHub/Project2022/Applications_Of_Reinforcement_Learning/Assignment-1/210735_Nirmal/Assignment-1.ipynb#ch0000002?line=12'>13</a>\u001b[0m     \u001b[39mprint\u001b[39m(\u001b[39m\"\u001b[39m\u001b[39m\\n\u001b[39;00m\u001b[39m\"\u001b[39m)\n\u001b[0;32m     <a href='vscode-notebook-cell:/c%3A/Users/NIRMAL/OneDrive/Documents/GitHub/Project2022/Applications_Of_Reinforcement_Learning/Assignment-1/210735_Nirmal/Assignment-1.ipynb#ch0000002?line=13'>14</a>\u001b[0m \u001b[39mprint\u001b[39m()\n",
      "\u001b[1;31mIndexError\u001b[0m: list index out of range"
     ]
    }
   ],
   "source": [
    "if c1==r2:\n",
    "    mulmat = []\n",
    "    b=0\n",
    "    for i in range(r1):\n",
    "        a =[]\n",
    "        for j in range(c2):\n",
    "            for k in range(r2):\n",
    "                b=b+(int(m1[i][k]*m2[k][j]))\n",
    "        mulmat.append(a)\n",
    "    for i in range(r1):\n",
    "        for j in range(c2):\n",
    "            print(mulmat[i][j], end = \" \")\n",
    "        print(\"\\n\")\n",
    "    print()"
   ]
  }
 ],
 "metadata": {
  "kernelspec": {
   "display_name": "Python 3.10.4 64-bit",
   "language": "python",
   "name": "python3"
  },
  "language_info": {
   "codemirror_mode": {
    "name": "ipython",
    "version": 3
   },
   "file_extension": ".py",
   "mimetype": "text/x-python",
   "name": "python",
   "nbconvert_exporter": "python",
   "pygments_lexer": "ipython3",
   "version": "3.10.4"
  },
  "orig_nbformat": 4,
  "vscode": {
   "interpreter": {
    "hash": "c0ded7d0e6c4c06fee4b04bbde871b34984a96fb0255d2c7f1b05bc601682651"
   }
  }
 },
 "nbformat": 4,
 "nbformat_minor": 2
}
