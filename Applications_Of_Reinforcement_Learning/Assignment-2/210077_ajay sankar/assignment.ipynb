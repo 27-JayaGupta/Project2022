{
 "cells": [
  {
   "cell_type": "markdown",
   "metadata": {},
   "source": [
    "## importing required libraries\n"
   ]
  },
  {
   "cell_type": "code",
   "execution_count": 9,
   "metadata": {},
   "outputs": [
    {
     "ename": "SyntaxError",
     "evalue": "invalid decimal literal (517881941.py, line 5)",
     "output_type": "error",
     "traceback": [
      "\u001b[0;36m  Input \u001b[0;32mIn [9]\u001b[0;36m\u001b[0m\n\u001b[0;31m    url=https://github.com/mas622424/Project2022/blob/main/Applications_Of_Reinforcement_Learning/Assignment-2/210077_ajay sankar/CarPrice_Assignment.csv\u001b[0m\n\u001b[0m                                                                                                                     ^\u001b[0m\n\u001b[0;31mSyntaxError\u001b[0m\u001b[0;31m:\u001b[0m invalid decimal literal\n"
     ]
    }
   ],
   "source": [
    "import numpy as np\n",
    "import pandas as pd\n",
    "import matplotlib.pyplot as plt\n",
    "from sklearn.linear_model import LinearRegression\n",
    "url=https://github.com/mas622424/Project2022/blob/main/Applications_Of_Reinforcement_Learning/Assignment-2/210077_ajay sankar/CarPrice_Assignment.csv\n",
    "given=[[190.9,70.3,54.9,183,3.64,123]]\n",
    "alpha=0.01\n",
    "cycle=5000\n"
   ]
  },
  {
   "cell_type": "markdown",
   "metadata": {},
   "source": [
    "### split\n"
   ]
  },
  {
   "cell_type": "code",
   "execution_count": 3,
   "metadata": {},
   "outputs": [],
   "source": [
    "def splitting(mat,rat):\n",
    "    training=mat.iloc[0:(int((mat.shape[0])*rat))].values\n",
    "    testing=mat.iloc[(int((mat.shape[0])*rat)):mat.shape[0]].values\n",
    "    return training,testing\n"
   ]
  },
  {
   "cell_type": "markdown",
   "metadata": {},
   "source": [
    "### stack"
   ]
  },
  {
   "cell_type": "code",
   "execution_count": 4,
   "metadata": {},
   "outputs": [],
   "source": [
    "def concate(mat):\n",
    "    return np.concate((np.ones((mat.shape[0],1)),mat),axis=1)"
   ]
  },
  {
   "cell_type": "markdown",
   "metadata": {},
   "source": [
    "### gradient"
   ]
  },
  {
   "cell_type": "code",
   "execution_count": 6,
   "metadata": {},
   "outputs": [],
   "source": [
    "def gradient(X,Y,Theta,cycle,alpha):\n",
    "    cost=np.zeros(cycle)\n",
    "    for i in range(cycle):\n",
    "        error=((X.dot(Theta.T))-Y)\n",
    "        multiplyerror=(error.T@X)\n",
    "        Theta=Theta-(alpha/X.shape[1])*multiplyerror\n",
    "        cost[i]=Cost(X,Y,Theta)\n",
    "    return Theta,cost \n",
    "     "
   ]
  },
  {
   "cell_type": "markdown",
   "metadata": {},
   "source": [
    "### Cost"
   ]
  },
  {
   "cell_type": "code",
   "execution_count": 7,
   "metadata": {},
   "outputs": [],
   "source": [
    "def Cost(X,Y,Theta):\n",
    "    return {1/2*X.shape[0]}*(np.sum(((X.dot(Theta,T))-Y)**2))"
   ]
  },
  {
   "cell_type": "markdown",
   "metadata": {},
   "source": [
    "### normalization"
   ]
  },
  {
   "cell_type": "code",
   "execution_count": 10,
   "metadata": {},
   "outputs": [],
   "source": [
    "def normalization(mat):\n",
    "    return (mat-(mat.min()))/((mat.max())-(mat.min()))"
   ]
  },
  {
   "cell_type": "markdown",
   "metadata": {},
   "source": [
    "### standard normalization"
   ]
  },
  {
   "cell_type": "code",
   "execution_count": 11,
   "metadata": {},
   "outputs": [],
   "source": [
    "def snormalization(mat):\n",
    "    return (mat-mat.mean())/mat.std() "
   ]
  },
  {
   "cell_type": "markdown",
   "metadata": {},
   "source": [
    "### prediction"
   ]
  },
  {
   "cell_type": "code",
   "execution_count": 1,
   "metadata": {},
   "outputs": [],
   "source": [
    "def prediction(X,Theta):\n",
    "    return X.dot(Theta.T)"
   ]
  },
  {
   "cell_type": "markdown",
   "metadata": {},
   "source": [
    "### r2"
   ]
  },
  {
   "cell_type": "code",
   "execution_count": 2,
   "metadata": {},
   "outputs": [],
   "source": [
    "def r2(Ypr,Y):\n",
    "    return 1- {(np.sum((Ypr-Y)**2))/(np.sum((Y-Y.mean())**2))}"
   ]
  },
  {
   "cell_type": "markdown",
   "metadata": {},
   "source": [
    "### import data"
   ]
  },
  {
   "cell_type": "code",
   "execution_count": null,
   "metadata": {},
   "outputs": [],
   "source": [
    "my_data=pd.read_csv(url,skipinitialspace=True,usecols=['carwidth','carheight','enginesize','stroke','horsepower'])\n",
    "price_data=pd.read_csv(url,skipinitialspace=True,usecols=['price'])\n",
    "Theta=np.zeros((1,my_data.shape[1]+1))"
   ]
  },
  {
   "cell_type": "markdown",
   "metadata": {},
   "source": [
    "### 80:20\n"
   ]
  },
  {
   "cell_type": "code",
   "execution_count": null,
   "metadata": {},
   "outputs": [],
   "source": [
    "train_data,test_data=splitting(My_data,0.8)\n",
    "train_price,test_price=splitting(Price_data,0.8)"
   ]
  },
  {
   "cell_type": "markdown",
   "metadata": {},
   "source": [
    "# normalize ,calculate gradient and stacking a column"
   ]
  },
  {
   "cell_type": "code",
   "execution_count": null,
   "metadata": {},
   "outputs": [],
   "source": [
    "My_data,F1,F2=normalization(my_data)\n",
    "Price_data,F3,F4=normalization(price_data)\n",
    "\n",
    "Theta,Cost=gradient(train_data,train_price,Theta,cycle,alpha)\n",
    "\n",
    "train_data=concate(train_data)\n",
    "test_data=concate(test_data)\n"
   ]
  },
  {
   "cell_type": "markdown",
   "metadata": {},
   "source": [
    "### graph"
   ]
  },
  {
   "cell_type": "code",
   "execution_count": null,
   "metadata": {},
   "outputs": [],
   "source": [
    "plt.plot(range(cycle),Cost)\n",
    "plt.xlabel('iteration')\n",
    "plt.ylabel('price')\n",
    "plt.grid()\n",
    "plt.show()"
   ]
  },
  {
   "cell_type": "markdown",
   "metadata": {},
   "source": []
  }
 ],
 "metadata": {
  "kernelspec": {
   "display_name": "Python 3.10.4 64-bit",
   "language": "python",
   "name": "python3"
  },
  "language_info": {
   "codemirror_mode": {
    "name": "ipython",
    "version": 3
   },
   "file_extension": ".py",
   "mimetype": "text/x-python",
   "name": "python",
   "nbconvert_exporter": "python",
   "pygments_lexer": "ipython3",
   "version": "3.10.4"
  },
  "orig_nbformat": 4,
  "vscode": {
   "interpreter": {
    "hash": "916dbcbb3f70747c44a77c7bcd40155683ae19c65e1c03b4aa3499c5328201f1"
   }
  }
 },
 "nbformat": 4,
 "nbformat_minor": 2
}
