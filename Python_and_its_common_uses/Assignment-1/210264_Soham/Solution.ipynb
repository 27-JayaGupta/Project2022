{
 "cells": [
  {
   "cell_type": "markdown",
   "id": "271638a7",
   "metadata": {},
   "source": [
    "## Matrix multiplication"
   ]
  },
  {
   "cell_type": "code",
   "execution_count": 79,
   "id": "bdb620c4",
   "metadata": {
    "scrolled": false
   },
   "outputs": [
    {
     "name": "stdout",
     "output_type": "stream",
     "text": [
      "[[ 1.72862501 -0.87357299 -2.30843963 -3.80947199 -4.67891906 -0.91849856\n",
      "  -0.29327499 -1.40466231]\n",
      " [-3.47589858 -1.00177375 -0.12853325  0.72032518 -0.17955708 -1.44096816\n",
      "   0.96004682 -1.41491382]\n",
      " [-1.41474144  1.95828708 -0.11378742  4.10832912 -2.07050819  1.53926529\n",
      "   1.67931522  0.38569457]\n",
      " [-1.98108887  2.85895132  8.18205275 -0.50762783 -1.22288863  5.22447422\n",
      "   4.37344292  3.36562388]\n",
      " [-1.69072971  0.83431383  2.60236633  4.13907032  0.52841536  5.88940089\n",
      "  -1.95963879  7.44000147]]\n",
      "[[ 1.72862501 -0.87357299 -2.30843963 -3.80947199 -4.67891906 -0.91849856\n",
      "  -0.29327499 -1.40466231]\n",
      " [-3.47589858 -1.00177375 -0.12853325  0.72032518 -0.17955708 -1.44096816\n",
      "   0.96004682 -1.41491382]\n",
      " [-1.41474144  1.95828708 -0.11378742  4.10832912 -2.07050819  1.53926529\n",
      "   1.67931522  0.38569457]\n",
      " [-1.98108887  2.85895132  8.18205275 -0.50762783 -1.22288863  5.22447422\n",
      "   4.37344292  3.36562388]\n",
      " [-1.69072971  0.83431383  2.60236633  4.13907032  0.52841536  5.88940089\n",
      "  -1.95963879  7.44000147]]\n",
      "0.005352020263671875\n",
      "0.0025496482849121094\n"
     ]
    }
   ],
   "source": [
    "import numpy as np\n",
    "import time\n",
    "a=np.random.randint(2,10)\n",
    "b=np.random.randint(2,10)\n",
    "c=np.random.randint(2,10)\n",
    "arr1=np.random.randn(a,b)\n",
    "arr2=np.random.randn(b,c)\n",
    "arr3=np.zeros([a,c])\n",
    "time1=time.time()\n",
    "for x in range(len(arr1)):\n",
    "    for y in range(len(arr2[0])):\n",
    "        for z in range(len(arr2)):\n",
    "            arr3[x,y]+=arr1[x,z]*arr2[z,y]\n",
    "print(arr3)\n",
    "time2=time.time()\n",
    "print(arr1.dot(arr2))\n",
    "time3=time.time()\n",
    "print(time2-time1)\n",
    "print(time3-time2)"
   ]
  },
  {
   "cell_type": "markdown",
   "id": "b29ca4f4",
   "metadata": {},
   "source": [
    "__we can see that the answer of matrix multiplication is the same but the time taken while using for loops(in the program made by me) is different__\n",
    "## Matrix addition"
   ]
  },
  {
   "cell_type": "code",
   "execution_count": 80,
   "id": "4557e9c6",
   "metadata": {
    "scrolled": true
   },
   "outputs": [
    {
     "name": "stdout",
     "output_type": "stream",
     "text": [
      "[[ 0.47387634  0.19441506  2.48686662 -0.90881349 -0.74414446  1.55421616\n",
      "  -1.62308011  0.15190669  0.84834032]\n",
      " [ 0.18772082  1.03551342  0.3072302  -0.1578325   1.14387697  1.16356319\n",
      "   0.44033892  1.68727864  2.53150392]\n",
      " [ 1.16054998  3.66573195  1.11901814  0.2502173  -1.23223946  0.83819149\n",
      "  -2.36928843 -0.66389987 -0.20164154]\n",
      " [ 0.09929065 -0.74396248  1.76348647  1.46389348  1.11947844 -2.22335452\n",
      "   0.18990666 -0.18110937  0.22839275]\n",
      " [ 1.21286974 -0.2916647   2.57371307  0.56652674 -2.05172453  3.1834012\n",
      "   0.1877398   0.53087799  2.24662959]]\n",
      "[[ 0.47387634  0.19441506  2.48686662 -0.90881349 -0.74414446  1.55421616\n",
      "  -1.62308011  0.15190669  0.84834032]\n",
      " [ 0.18772082  1.03551342  0.3072302  -0.1578325   1.14387697  1.16356319\n",
      "   0.44033892  1.68727864  2.53150392]\n",
      " [ 1.16054998  3.66573195  1.11901814  0.2502173  -1.23223946  0.83819149\n",
      "  -2.36928843 -0.66389987 -0.20164154]\n",
      " [ 0.09929065 -0.74396248  1.76348647  1.46389348  1.11947844 -2.22335452\n",
      "   0.18990666 -0.18110937  0.22839275]\n",
      " [ 1.21286974 -0.2916647   2.57371307  0.56652674 -2.05172453  3.1834012\n",
      "   0.1877398   0.53087799  2.24662959]]\n",
      "0.0011174678802490234\n",
      "0.0004990100860595703\n"
     ]
    }
   ],
   "source": [
    "arr6=np.zeros([a,b])\n",
    "arr4=np.random.randn(a,b)\n",
    "arr5=np.random.randn(a,b)\n",
    "time1=time.time()\n",
    "for x in range(len(arr4)):\n",
    "    for y in range(len(arr4[0])):\n",
    "        arr6[x,y]=arr4[x,y]+arr5[x,y]\n",
    "print(arr6)\n",
    "time2=time.time()\n",
    "print(arr4+arr5)\n",
    "time3=time.time()\n",
    "print(time2-time1)\n",
    "print(time3-time2)"
   ]
  },
  {
   "cell_type": "markdown",
   "id": "70a10665",
   "metadata": {},
   "source": [
    "__again the python library is faster...__"
   ]
  },
  {
   "cell_type": "markdown",
   "id": "26451310",
   "metadata": {},
   "source": [
    "## Inverse of a matrix"
   ]
  },
  {
   "cell_type": "code",
   "execution_count": 81,
   "id": "d21a60d7",
   "metadata": {
    "scrolled": true
   },
   "outputs": [
    {
     "name": "stdout",
     "output_type": "stream",
     "text": [
      "-1.2899993313252525\n",
      "-0.775194200273477\n",
      "[[-1.53002884e-01  9.74150063e-01  2.48324085e-01 -1.25840279e-01\n",
      "   2.95806326e-01]\n",
      " [ 9.95197376e-01 -1.13455776e+00  5.76649018e-02 -8.45503088e-01\n",
      "   1.07867277e+00]\n",
      " [-1.29479851e+00  2.09533110e+00  2.04928033e-03  1.99605918e-01\n",
      "  -6.12852692e-01]\n",
      " [-3.42124353e-02  9.98330234e-01  1.24403642e+00 -6.66248065e-01\n",
      "   1.34447775e+00]\n",
      " [-5.25437175e-02  1.42133307e+00  1.06167098e-01  6.55371380e-01\n",
      "   1.16486187e+00]]\n",
      "[[ 4.71390593 -0.82601811 -1.92321872 -0.86107853 -0.45013818]\n",
      " [ 2.26729926 -0.17640995 -0.38736403 -0.43391767 -0.11537617]\n",
      " [ 0.61007034 -1.28484653 -1.06302323  0.77956605 -0.42418726]\n",
      " [-0.45490646 -0.94856836 -0.69887006  0.09149543  0.52061203]\n",
      " [-2.35353055  0.82877484  0.87598178  0.36808614  0.72470098]]\n",
      "[[ 4.71390593 -0.82601811 -1.92321872 -0.86107853 -0.45013818]\n",
      " [ 2.26729926 -0.17640995 -0.38736403 -0.43391767 -0.11537617]\n",
      " [ 0.61007034 -1.28484653 -1.06302323  0.77956605 -0.42418726]\n",
      " [-0.45490646 -0.94856836 -0.69887006  0.09149543  0.52061203]\n",
      " [-2.35353055  0.82877484  0.87598178  0.36808614  0.72470098]]\n",
      "0.008044719696044922\n",
      "0.00842595100402832\n"
     ]
    }
   ],
   "source": [
    "time1=time.time()\n",
    "def smatrix(arr, x, y, n):\n",
    "    ar=np.zeros([n-1,n-1])\n",
    "    for i in range(n):\n",
    "        for j in range(n):\n",
    "            if (i==x or j==y):\n",
    "                continue\n",
    "            elif j<y and i<x:\n",
    "                ar[i][j]=arr[i][j]\n",
    "            elif j>y and i>x:\n",
    "                ar[i-1][j-1]=arr[i][j]\n",
    "            elif j>y and i<x:\n",
    "                ar[i][j-1]=arr[i][j]\n",
    "            elif j<y and i>x:\n",
    "                ar[i-1][j]=arr[i][j]\n",
    "    return ar\n",
    "\n",
    "def determinant(arr):\n",
    "    if len(arr)==2:\n",
    "        return arr[0][0]*arr[1][1]-arr[0][1]*arr[1][0]\n",
    "    det=0\n",
    "    for x in range(len(arr)):\n",
    "        det+=((-1)**x)*arr[0][x]*determinant(smatrix(arr,0, x,len(arr)))\n",
    "    return det\n",
    "\n",
    "arr=np.random.randn(a,a)\n",
    "arans=np.zeros([a,a])\n",
    "detarr=determinant(arr)\n",
    "if detarr==0:\n",
    "    print(\"determinant is zero hence inverse not possible\")\n",
    "for x in range(a):\n",
    "    for y in range(a):\n",
    "        arans[y][x]=((-1)^(x+y))*determinant(smatrix(arr, x, y, a))/detarr\n",
    "        arans[y][x]/=x+y+1\n",
    "        if (x+y)%2 == 0:\n",
    "            arans[y][x]*=-1\n",
    "detarans=determinant(arans)\n",
    "print(detarans)\n",
    "print(detarr)\n",
    "print(arr)\n",
    "print(arans)\n",
    "time2=time.time()\n",
    "print(np.linalg.inv(arr))\n",
    "time3=time.time()\n",
    "print(time2-time1)\n",
    "print(time3-time2)"
   ]
  },
  {
   "cell_type": "markdown",
   "id": "35b569c0",
   "metadata": {},
   "source": [
    "__Inverse of the matrix code by me and by using library__"
   ]
  }
 ],
 "metadata": {
  "kernelspec": {
   "display_name": "Python 3 (ipykernel)",
   "language": "python",
   "name": "python3"
  },
  "language_info": {
   "codemirror_mode": {
    "name": "ipython",
    "version": 3
   },
   "file_extension": ".py",
   "mimetype": "text/x-python",
   "name": "python",
   "nbconvert_exporter": "python",
   "pygments_lexer": "ipython3",
   "version": "3.9.12"
  }
 },
 "nbformat": 4,
 "nbformat_minor": 5
}
