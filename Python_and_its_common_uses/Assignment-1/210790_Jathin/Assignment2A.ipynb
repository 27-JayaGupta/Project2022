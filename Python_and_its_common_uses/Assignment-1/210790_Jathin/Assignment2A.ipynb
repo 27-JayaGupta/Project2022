{
 "cells": [
  {
   "cell_type": "code",
   "execution_count": null,
   "metadata": {},
   "outputs": [],
   "source": [
    "import matplotlib.myplot as mp\n",
    "import numpy as np\n",
    "#graph 1\n",
    "x=[1,2,3,4,5]\n",
    "y=[2,4,6,8,10]\n",
    "mp.plot(x,y)\n",
    "#graph 2\n",
    "x=np.arange(-5,5,0.1)\n",
    "y=np.sin(x)\n",
    "mp.plot(x,y)\n",
    "#graph 3\n",
    "x=np.arange(0,10)\n",
    "y=[i**2-4 for i in x ]\n",
    "mp.plot(x,y)"
   ]
  }
 ],
 "metadata": {
  "language_info": {
   "name": "python"
  },
  "orig_nbformat": 4
 },
 "nbformat": 4,
 "nbformat_minor": 2
}
