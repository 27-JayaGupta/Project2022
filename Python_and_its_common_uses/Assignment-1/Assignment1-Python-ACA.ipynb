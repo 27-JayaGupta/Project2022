{
 "cells": [
  {
   "cell_type": "markdown",
   "id": "68565d00",
   "metadata": {},
   "source": [
    "To import the required libraries"
   ]
  },
  {
   "cell_type": "code",
   "execution_count": 28,
   "id": "7581f6bb",
   "metadata": {},
   "outputs": [],
   "source": [
    "import numpy as np\n",
    "import random"
   ]
  },
  {
   "cell_type": "markdown",
   "id": "2b43c322",
   "metadata": {},
   "source": [
    "to input the size of the matrix"
   ]
  },
  {
   "cell_type": "code",
   "execution_count": 29,
   "id": "f7237351",
   "metadata": {},
   "outputs": [
    {
     "name": "stdout",
     "output_type": "stream",
     "text": [
      "Enter size of square matrix3\n"
     ]
    }
   ],
   "source": [
    "n=input(\"Enter size of square matrix\")\n",
    "n=int(n)"
   ]
  },
  {
   "cell_type": "code",
   "execution_count": 30,
   "id": "7e13bb87",
   "metadata": {},
   "outputs": [],
   "source": [
    "array1=[[random.random() for i in range(n)] for j in range(n)]\n",
    "array2=[[random.random() for i in range(n)] for j in range(n)]"
   ]
  },
  {
   "cell_type": "markdown",
   "id": "98dd3fef",
   "metadata": {},
   "source": [
    "to print the first array"
   ]
  },
  {
   "cell_type": "code",
   "execution_count": 31,
   "id": "0872d715",
   "metadata": {},
   "outputs": [
    {
     "name": "stdout",
     "output_type": "stream",
     "text": [
      "First array\n",
      "[0.03393607608682425, 0.5145299340873966, 0.17618332577950424]\n",
      "[0.44244943296274664, 0.7194158551660006, 0.1410453939225349]\n",
      "[0.03646158991663051, 0.5757838805525957, 0.6873650244260557]\n"
     ]
    }
   ],
   "source": [
    "print(\"First array\")\n",
    "for e in array1:\n",
    "    print(e)"
   ]
  },
  {
   "cell_type": "markdown",
   "id": "930a54bb",
   "metadata": {},
   "source": [
    "to print the second array"
   ]
  },
  {
   "cell_type": "code",
   "execution_count": 32,
   "id": "a0a7020b",
   "metadata": {},
   "outputs": [
    {
     "name": "stdout",
     "output_type": "stream",
     "text": [
      "Second array\n",
      "[0.6484999146561545, 0.8541539966475761, 0.14025855104775187]\n",
      "[0.6185634164929877, 0.806422676006187, 0.00723294810260533]\n",
      "[0.0704197541215612, 0.7503224433523117, 0.8711013076111636]\n"
     ]
    }
   ],
   "source": [
    "print(\"Second array\")\n",
    "for e in array2:\n",
    "    print(e)"
   ]
  },
  {
   "cell_type": "markdown",
   "id": "1e652d6f",
   "metadata": {},
   "source": [
    "To compute their product"
   ]
  },
  {
   "cell_type": "code",
   "execution_count": 33,
   "id": "f3ccc170",
   "metadata": {},
   "outputs": [],
   "source": [
    "productmat=np.zeros((n,n))\n",
    "for i in range(len(array1)):\n",
    "    #iterate through columns of array1\n",
    "    for j in range(len(array2[0])):\n",
    "        # iterate through rows of array2\n",
    "        for k in range(len(array2)):\n",
    "           productmat[i][j] += array1[i][k] * array2[k][j]"
   ]
  },
  {
   "cell_type": "markdown",
   "id": "e35204a2",
   "metadata": {},
   "source": [
    "To print thier product now"
   ]
  },
  {
   "cell_type": "code",
   "execution_count": 34,
   "id": "f6af8a6d",
   "metadata": {},
   "outputs": [
    {
     "name": "stdout",
     "output_type": "stream",
     "text": [
      "Their product\n",
      "[0.35268372 0.57610954 0.16195492]\n",
      "[0.74186513 1.06390274 0.19012564]\n",
      "[0.42820826 1.0112144  0.60804324]\n"
     ]
    }
   ],
   "source": [
    "print(\"Their product\")\n",
    "for r in productmat:\n",
    "    print(r)"
   ]
  },
  {
   "cell_type": "markdown",
   "id": "390c2135",
   "metadata": {},
   "source": [
    "Now let's head on to the addition part"
   ]
  },
  {
   "cell_type": "code",
   "execution_count": 35,
   "id": "41ef6669",
   "metadata": {},
   "outputs": [],
   "source": [
    "summat=np.zeros((n,n))\n",
    "for i in range(n):\n",
    "    for j in range(n):\n",
    "        summat[i][j]=array1[i][j] + array2[i][j]\n"
   ]
  },
  {
   "cell_type": "markdown",
   "id": "b7bedc6b",
   "metadata": {},
   "source": [
    "Now printing"
   ]
  },
  {
   "cell_type": "code",
   "execution_count": 36,
   "id": "1a7d305d",
   "metadata": {},
   "outputs": [
    {
     "name": "stdout",
     "output_type": "stream",
     "text": [
      "Their sum\n",
      "[0.68243599 1.36868393 0.31644188]\n",
      "[1.06101285 1.52583853 0.14827834]\n",
      "[0.10688134 1.32610632 1.55846633]\n"
     ]
    }
   ],
   "source": [
    "print(\"Their sum\")\n",
    "for r in summat:\n",
    "    print(r)"
   ]
  },
  {
   "cell_type": "markdown",
   "id": "737119ea",
   "metadata": {},
   "source": [
    "Now the inverse part"
   ]
  },
  {
   "cell_type": "code",
   "execution_count": 37,
   "id": "b8f443f6",
   "metadata": {},
   "outputs": [],
   "source": [
    "def print_matrix(Title, M):\n",
    "    print(Title)\n",
    "    for row in M:\n",
    "        print([round(x,3)+0 for x in row])\n",
    "        \n",
    "def print_matrices(Action, Title1, M1, Title2, M2):\n",
    "    print(Action)\n",
    "    print(Title1, '\\t'*int(len(M1)/2)+\"\\t\"*len(M1), Title2)\n",
    "    for i in range(len(M1)):\n",
    "        row1 = ['{0:+7.3f}'.format(x) for x in M1[i]]\n",
    "        row2 = ['{0:+7.3f}'.format(x) for x in M2[i]]\n",
    "        print(row1,'\\t', row2)\n",
    "        \n",
    "def zeros_matrix(rows, cols):\n",
    "    A = []\n",
    "    for i in range(rows):\n",
    "        A.append([])\n",
    "        for j in range(cols):\n",
    "            A[-1].append(0.0)\n",
    "\n",
    "    return A\n",
    "\n",
    "def copy_matrix(M):\n",
    "    rows = len(M)\n",
    "    cols = len(M[0])\n",
    "\n",
    "    MC = zeros_matrix(rows, cols)\n",
    "\n",
    "    for i in range(rows):\n",
    "        for j in range(rows):\n",
    "            MC[i][j] = M[i][j]\n",
    "\n",
    "    return MC\n",
    "\n",
    "def matrix_multiply(A,B):\n",
    "    rowsA = len(A)\n",
    "    colsA = len(A[0])\n",
    "\n",
    "    rowsB = len(B)\n",
    "    colsB = len(B[0])\n",
    "\n",
    "    if colsA != rowsB:\n",
    "        print('Number of A columns must equal number of B rows.')\n",
    "        sys.exit()\n",
    "\n",
    "    C = zeros_matrix(rowsA, colsB)\n",
    "\n",
    "    for i in range(rowsA):\n",
    "        for j in range(colsB):\n",
    "            total = 0\n",
    "            for ii in range(colsA):\n",
    "                total += A[i][ii] * B[ii][j]\n",
    "            C[i][j] = total\n",
    "\n",
    "    return C"
   ]
  },
  {
   "cell_type": "code",
   "execution_count": 38,
   "id": "e7b41793",
   "metadata": {},
   "outputs": [
    {
     "name": "stdout",
     "output_type": "stream",
     "text": [
      "A Matrix\n",
      "[0.034, 0.515, 0.176]\n",
      "[0.442, 0.719, 0.141]\n",
      "[0.036, 0.576, 0.687]\n",
      "\n",
      "I Matrix\n",
      "[1, 0, 0, 0, 0]\n",
      "[0, 1, 0, 0, 0]\n",
      "[0, 0, 1, 0, 0]\n",
      "[0, 0, 0, 1, 0]\n",
      "[0, 0, 0, 0, 1]\n"
     ]
    }
   ],
   "source": [
    "A = array1\n",
    "I = [[1,0,0,0,0],[0,1,0,0,0],[0,0,1,0,0],[0,0,0,1,0],[0,0,0,0,1]]\n",
    "print_matrix('A Matrix', A)\n",
    "print()\n",
    "print_matrix('I Matrix', I)"
   ]
  },
  {
   "cell_type": "code",
   "execution_count": 39,
   "id": "882d8e0f",
   "metadata": {},
   "outputs": [
    {
     "name": "stdout",
     "output_type": "stream",
     "text": [
      "\n",
      "Since the matrices won't be the original A and I as we start row operations, \n",
      "    the matrices will be called: AM for \"A Morphing\", and IM for \"I Morphing\" \n",
      "\n",
      "AM Matrix\n",
      "[0.034, 0.515, 0.176]\n",
      "[0.442, 0.719, 0.141]\n",
      "[0.036, 0.576, 0.687]\n",
      "\n",
      "IM Matrix\n",
      "[1, 0, 0, 0, 0]\n",
      "[0, 1, 0, 0, 0]\n",
      "[0, 0, 1, 0, 0]\n",
      "[0, 0, 0, 1, 0]\n",
      "[0, 0, 0, 0, 1]\n"
     ]
    }
   ],
   "source": [
    "AM = copy_matrix(A)\n",
    "IM = copy_matrix(I)\n",
    "n = len(AM)\n",
    "\n",
    "exString = \"\"\"\n",
    "Since the matrices won't be the original A and I as we start row operations, \n",
    "    the matrices will be called: AM for \"A Morphing\", and IM for \"I Morphing\" \n",
    "\"\"\"\n",
    "print(exString)\n",
    "print_matrix('AM Matrix', AM)\n",
    "print()\n",
    "print_matrix('IM Matrix', IM)"
   ]
  },
  {
   "cell_type": "code",
   "execution_count": 40,
   "id": "41dcdc63",
   "metadata": {},
   "outputs": [
    {
     "name": "stdout",
     "output_type": "stream",
     "text": [
      "AM Matrix\n",
      "[1.0, 15.162, 5.192]\n",
      "[0.442, 0.719, 0.141]\n",
      "[0.036, 0.576, 0.687]\n",
      "\n",
      "IM Matrix\n",
      "[29.467, 0.0, 0.0, 0, 0]\n",
      "[0, 1, 0, 0, 0]\n",
      "[0, 0, 1, 0, 0]\n",
      "[0, 0, 0, 1, 0]\n",
      "[0, 0, 0, 0, 1]\n"
     ]
    }
   ],
   "source": [
    "fd = 0 # fd stands for focus diagonal\n",
    "fdScaler = 1. / AM[fd][fd]\n",
    "\n",
    "for j in range(n): # using j to indicate cycling through columns\n",
    "    AM[fd][j] = fdScaler * AM[fd][j]\n",
    "    IM[fd][j] = fdScaler * IM[fd][j]\n",
    "\n",
    "print_matrix('AM Matrix', AM)\n",
    "print()\n",
    "print_matrix('IM Matrix', IM)"
   ]
  },
  {
   "cell_type": "code",
   "execution_count": 41,
   "id": "5d954d57",
   "metadata": {},
   "outputs": [
    {
     "name": "stdout",
     "output_type": "stream",
     "text": [
      "AM Matrix\n",
      "[1.0, 15.162, 5.192]\n",
      "[0.0, -5.989, -2.156]\n",
      "[0.0, 0.023, 0.498]\n",
      "\n",
      "IM Matrix\n",
      "[29.467, 0.0, 0.0, 0, 0]\n",
      "[-13.038, 1.0, 0.0, 0, 0]\n",
      "[-1.074, 0.0, 1.0, 0, 0]\n",
      "[0, 0, 0, 1, 0]\n",
      "[0, 0, 0, 0, 1]\n"
     ]
    }
   ],
   "source": [
    "n = len(A)\n",
    "indices = list(range(n))\n",
    "\n",
    "for i in indices[0:fd] + indices[fd+1:]: # *** skip row with fd in it.\n",
    "    crScaler = AM[i][fd] # cr stands for \"current row\".\n",
    "    for j in range(n): # cr - crScaler * fdRow, but one element at a time.\n",
    "        AM[i][j] = AM[i][j] - crScaler * AM[fd][j]\n",
    "        IM[i][j] = IM[i][j] - crScaler * IM[fd][j]\n",
    "    \n",
    "print_matrix('AM Matrix', AM)\n",
    "print()\n",
    "print_matrix('IM Matrix', IM)"
   ]
  },
  {
   "cell_type": "code",
   "execution_count": 42,
   "id": "db9adc64",
   "metadata": {},
   "outputs": [
    {
     "name": "stdout",
     "output_type": "stream",
     "text": [
      "\n",
      "Using the matrices above, Scale row-2 of AM and IM by diagonal element 2 of AM, which is 1/-5.989.\n",
      "\n",
      "AM Matrix\n",
      "[1.0, 15.162, 5.192]\n",
      "[0.0, 1.0, 0.36]\n",
      "[0.0, 0.023, 0.498]\n",
      "\n",
      "IM Matrix\n",
      "[29.467, 0.0, 0.0, 0, 0]\n",
      "[2.177, -0.167, 0.0, 0, 0]\n",
      "[-1.074, 0.0, 1.0, 0, 0]\n",
      "[0, 0, 0, 1, 0]\n",
      "[0, 0, 0, 0, 1]\n",
      "\n",
      "Using the matrices above, subtract +15.162 * row-2 of AM from row-1 of AM, and \n",
      "\tsubtract +15.162 * row-2 of IM from row-1 of IM\n",
      "\n",
      "AM Matrix\n",
      "[1.0, 0.0, -0.267]\n",
      "[0.0, 1.0, 0.36]\n",
      "[0.0, 0.023, 0.498]\n",
      "\n",
      "IM Matrix\n",
      "[-3.54, 2.532, 0.0, 0, 0]\n",
      "[2.177, -0.167, 0.0, 0, 0]\n",
      "[-1.074, 0.0, 1.0, 0, 0]\n",
      "[0, 0, 0, 1, 0]\n",
      "[0, 0, 0, 0, 1]\n",
      "\n",
      "Using the matrices above, subtract +0.023 * row-2 of AM from row-3 of AM, and \n",
      "\tsubtract +0.023 * row-2 of IM from row-3 of IM\n",
      "\n",
      "AM Matrix\n",
      "[1.0, 0.0, -0.267]\n",
      "[0.0, 1.0, 0.36]\n",
      "[0.0, 0.0, 0.49]\n",
      "\n",
      "IM Matrix\n",
      "[-3.54, 2.532, 0.0, 0, 0]\n",
      "[2.177, -0.167, 0.0, 0, 0]\n",
      "[-1.124, 0.004, 1.0, 0, 0]\n",
      "[0, 0, 0, 1, 0]\n",
      "[0, 0, 0, 0, 1]\n",
      "\n",
      "\n",
      "Using the matrices above, Scale row-3 of AM and IM by diagonal element 3 of AM, which is 1/+0.490.\n",
      "\n",
      "AM Matrix\n",
      "[1.0, 0.0, -0.267]\n",
      "[0.0, 1.0, 0.36]\n",
      "[0.0, 0.0, 1.0]\n",
      "\n",
      "IM Matrix\n",
      "[-3.54, 2.532, 0.0, 0, 0]\n",
      "[2.177, -0.167, 0.0, 0, 0]\n",
      "[-2.296, 0.008, 2.042, 0, 0]\n",
      "[0, 0, 0, 1, 0]\n",
      "[0, 0, 0, 0, 1]\n",
      "\n",
      "Using the matrices above, subtract -0.267 * row-3 of AM from row-1 of AM, and \n",
      "\tsubtract -0.267 * row-3 of IM from row-1 of IM\n",
      "\n",
      "AM Matrix\n",
      "[1.0, 0.0, 0.0]\n",
      "[0.0, 1.0, 0.36]\n",
      "[0.0, 0.0, 1.0]\n",
      "\n",
      "IM Matrix\n",
      "[-4.152, 2.534, 0.544, 0, 0]\n",
      "[2.177, -0.167, 0.0, 0, 0]\n",
      "[-2.296, 0.008, 2.042, 0, 0]\n",
      "[0, 0, 0, 1, 0]\n",
      "[0, 0, 0, 0, 1]\n",
      "\n",
      "Using the matrices above, subtract +0.360 * row-3 of AM from row-2 of AM, and \n",
      "\tsubtract +0.360 * row-3 of IM from row-2 of IM\n",
      "\n",
      "AM Matrix\n",
      "[1.0, 0.0, 0.0]\n",
      "[0.0, 1.0, 0.0]\n",
      "[0.0, 0.0, 1.0]\n",
      "\n",
      "IM Matrix\n",
      "[-4.152, 2.534, 0.544, 0, 0]\n",
      "[3.003, -0.17, -0.735, 0, 0]\n",
      "[-2.296, 0.008, 2.042, 0, 0]\n",
      "[0, 0, 0, 1, 0]\n",
      "[0, 0, 0, 0, 1]\n",
      "\n"
     ]
    }
   ],
   "source": [
    "indices = list(range(n)) # to allow flexible row referencing ***\n",
    "# We've already run for fd = 0, now let's run for fd = 1 to the last fd\n",
    "for fd in range(1,n): # fd stands for focus diagonal\n",
    "    fdScaler = 1.0 / AM[fd][fd]\n",
    "    # FIRST: scale fd row with fd inverse. \n",
    "    for j in range(n): # Use j to indicate column looping.\n",
    "        AM[fd][j] *= fdScaler\n",
    "        IM[fd][j] *= fdScaler\n",
    "    \n",
    "    # Section to print out current actions:\n",
    "    string1 = '\\nUsing the matrices above, Scale row-{} of AM and IM by '\n",
    "    string2 = 'diagonal element {} of AM, which is 1/{:+.3f}.\\n'\n",
    "    stringsum = string1 + string2\n",
    "    val1 = fd+1; val2 = fd+1\n",
    "    Action = stringsum.format(val1,val2,round(1./fdScaler,3))\n",
    "    print(Action)\n",
    "    print_matrix('AM Matrix', AM)\n",
    "    print()\n",
    "    print_matrix('IM Matrix', IM)\n",
    "    print()\n",
    "    \n",
    "    # SECOND: operate on all rows except fd row.\n",
    "    for i in indices[:fd] + indices[fd+1:]: # *** skip row with fd in it.\n",
    "        crScaler = AM[i][fd] # cr stands for \"current row\".\n",
    "        for j in range(n): # cr - crScaler * fdRow, but one element at a time.\n",
    "            AM[i][j] = AM[i][j] - crScaler * AM[fd][j]\n",
    "            IM[i][j] = IM[i][j] - crScaler * IM[fd][j]\n",
    "        \n",
    "        # Section to print out current actions:\n",
    "        string1 = 'Using the matrices above, subtract {:+.3f} * row-{} of AM from row-{} of AM, and \\n'\n",
    "        string2 = '\\tsubtract {:+.3f} * row-{} of IM from row-{} of IM\\n'\n",
    "        val1 = i+1; val2 = fd+1\n",
    "        stringsum = string1 + string2\n",
    "        Action = stringsum.format(crScaler, val2, val1, crScaler, val2, val1)\n",
    "        print(Action)\n",
    "        print_matrix('AM Matrix', AM)\n",
    "        print()\n",
    "        print_matrix('IM Matrix', IM)\n",
    "        print()"
   ]
  }
 ],
 "metadata": {
  "kernelspec": {
   "display_name": "Python 3 (ipykernel)",
   "language": "python",
   "name": "python3"
  },
  "language_info": {
   "codemirror_mode": {
    "name": "ipython",
    "version": 3
   },
   "file_extension": ".py",
   "mimetype": "text/x-python",
   "name": "python",
   "nbconvert_exporter": "python",
   "pygments_lexer": "ipython3",
   "version": "3.9.12"
  }
 },
 "nbformat": 4,
 "nbformat_minor": 5
}
